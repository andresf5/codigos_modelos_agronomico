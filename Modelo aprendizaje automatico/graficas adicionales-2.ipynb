{
 "cells": [
  {
   "cell_type": "code",
   "execution_count": 27,
   "metadata": {},
   "outputs": [
    {
     "ename": "AttributeError",
     "evalue": "'function' object has no attribute 'hist'",
     "output_type": "error",
     "traceback": [
      "\u001b[0;31m---------------------------------------------------------------------------\u001b[0m",
      "\u001b[0;31mAttributeError\u001b[0m                            Traceback (most recent call last)",
      "\u001b[0;32m<ipython-input-27-f45b897f8e8a>\u001b[0m in \u001b[0;36m<module>\u001b[0;34m\u001b[0m\n\u001b[1;32m     13\u001b[0m \u001b[0;31m#plt.ylim(0, 5)\u001b[0m\u001b[0;34m\u001b[0m\u001b[0;34m\u001b[0m\u001b[0;34m\u001b[0m\u001b[0m\n\u001b[1;32m     14\u001b[0m \u001b[0mplt\u001b[0m\u001b[0;34m.\u001b[0m\u001b[0mgrid\u001b[0m\u001b[0;34m(\u001b[0m\u001b[0;34m)\u001b[0m\u001b[0;34m\u001b[0m\u001b[0;34m\u001b[0m\u001b[0m\n\u001b[0;32m---> 15\u001b[0;31m \u001b[0mplt\u001b[0m\u001b[0;34m.\u001b[0m\u001b[0mplot\u001b[0m\u001b[0;34m.\u001b[0m\u001b[0mhist\u001b[0m\u001b[0;34m(\u001b[0m\u001b[0mx\u001b[0m\u001b[0;34m,\u001b[0m \u001b[0my\u001b[0m\u001b[0;34m,\u001b[0m \u001b[0mmarker\u001b[0m\u001b[0;34m=\u001b[0m\u001b[0;34m\"o\"\u001b[0m\u001b[0;34m,\u001b[0m \u001b[0mmarkersize\u001b[0m\u001b[0;34m=\u001b[0m\u001b[0;36m20\u001b[0m\u001b[0;34m,\u001b[0m \u001b[0mmarkerfacecolor\u001b[0m\u001b[0;34m=\u001b[0m\u001b[0;34m\"green\"\u001b[0m\u001b[0;34m)\u001b[0m\u001b[0;34m\u001b[0m\u001b[0;34m\u001b[0m\u001b[0m\n\u001b[0m\u001b[1;32m     16\u001b[0m \u001b[0mplt\u001b[0m\u001b[0;34m.\u001b[0m\u001b[0mshow\u001b[0m\u001b[0;34m(\u001b[0m\u001b[0;34m)\u001b[0m\u001b[0;34m\u001b[0m\u001b[0;34m\u001b[0m\u001b[0m\n",
      "\u001b[0;31mAttributeError\u001b[0m: 'function' object has no attribute 'hist'"
     ]
    },
    {
     "data": {
      "image/png": "[encoded data removed]",
      "text/plain": [
       "<Figure size 504x252 with 1 Axes>"
      ]
     },
     "metadata": {
      "needs_background": "light"
     },
     "output_type": "display_data"
    }
   ],
   "source": [
    "from matplotlib import pyplot as plt\n",
    "import pandas as pd\n",
    "\n",
    "df1= pd.read_csv('../combinaciones.csv', sep=\";\")\n",
    "\n",
    "#plt.rcParams[\"figure.figsize\"] = [7.00, 3.50]\n",
    "plt.rcParams[\"figure.autolayout\"] = True\n",
    "#x = df1.combinacion.tolist()\n",
    "#y = df1.rmse.tolist()\n",
    "x=[4,3]\n",
    "y=[5,6]\n",
    "#plt.xlim(0, 5)\n",
    "#plt.ylim(0, 5)\n",
    "plt.grid()\n",
    "plt.plot.scatter(x, y, marker=\"o\", markersize=20, markerfacecolor=\"green\")\n",
    "plt.show()"
   ]
  },
  {
   "cell_type": "code",
   "execution_count": null,
   "metadata": {},
   "outputs": [],
   "source": []
  },
  {
   "cell_type": "code",
   "execution_count": 8,
   "metadata": {},
   "outputs": [
    {
     "data": {
      "text/html": [
       "<div>\n",
       "<style scoped>\n",
       "    .dataframe tbody tr th:only-of-type {\n",
       "        vertical-align: middle;\n",
       "    }\n",
       "\n",
       "    .dataframe tbody tr th {\n",
       "        vertical-align: top;\n",
       "    }\n",
       "\n",
       "    .dataframe thead th {\n",
       "        text-align: right;\n",
       "    }\n",
       "</style>\n",
       "<table border=\"1\" class=\"dataframe\">\n",
       "  <thead>\n",
       "    <tr style=\"text-align: right;\">\n",
       "      <th></th>\n",
       "      <th>detalles</th>\n",
       "      <th>rmse</th>\n",
       "      <th>combinacion</th>\n",
       "    </tr>\n",
       "  </thead>\n",
       "  <tbody>\n",
       "    <tr>\n",
       "      <th>0</th>\n",
       "      <td>['PH', 'SOC', 'KEX', 'PBRAY', 'NrTrees', 'N', ...</td>\n",
       "      <td>20.95</td>\n",
       "      <td>Combinación 1</td>\n",
       "    </tr>\n",
       "    <tr>\n",
       "      <th>1</th>\n",
       "      <td>['SOC', 'KEX', 'PBRAY', 'NrTrees', 'N', 'P', '...</td>\n",
       "      <td>20.37</td>\n",
       "      <td>Combinación 2</td>\n",
       "    </tr>\n",
       "    <tr>\n",
       "      <th>2</th>\n",
       "      <td>['PH', 'SOC', 'KEX', 'PBRAY', 'NrTrees', 'N_su...</td>\n",
       "      <td>105.84</td>\n",
       "      <td>Combinación 3</td>\n",
       "    </tr>\n",
       "    <tr>\n",
       "      <th>3</th>\n",
       "      <td>['PH', 'SOC', 'KEX', 'N_supply']</td>\n",
       "      <td>107.65</td>\n",
       "      <td>Combinación 4</td>\n",
       "    </tr>\n",
       "    <tr>\n",
       "      <th>4</th>\n",
       "      <td>['PH', 'SOC', 'KEX', 'PBRAY', 'NrTrees', 'N','...</td>\n",
       "      <td>30.50</td>\n",
       "      <td>Combinación 5</td>\n",
       "    </tr>\n",
       "    <tr>\n",
       "      <th>5</th>\n",
       "      <td>['PH', 'SOC', 'KEX', 'NrTrees', 'N', 'N_supply']</td>\n",
       "      <td>16.38</td>\n",
       "      <td>Combinación 6</td>\n",
       "    </tr>\n",
       "    <tr>\n",
       "      <th>6</th>\n",
       "      <td>['PH', 'SOC', 'PBRAY','N', 'P', 'K', 'N_supply']</td>\n",
       "      <td>42.72</td>\n",
       "      <td>Combinación 7</td>\n",
       "    </tr>\n",
       "    <tr>\n",
       "      <th>7</th>\n",
       "      <td>['PH', 'SOC', 'N', 'P', 'K', 'N_supply']</td>\n",
       "      <td>43.08</td>\n",
       "      <td>Combinación 8</td>\n",
       "    </tr>\n",
       "  </tbody>\n",
       "</table>\n",
       "</div>"
      ],
      "text/plain": [
       "                                            detalles    rmse    combinacion\n",
       "0  ['PH', 'SOC', 'KEX', 'PBRAY', 'NrTrees', 'N', ...   20.95  Combinación 1\n",
       "1  ['SOC', 'KEX', 'PBRAY', 'NrTrees', 'N', 'P', '...   20.37  Combinación 2\n",
       "2  ['PH', 'SOC', 'KEX', 'PBRAY', 'NrTrees', 'N_su...  105.84  Combinación 3\n",
       "3                   ['PH', 'SOC', 'KEX', 'N_supply']  107.65  Combinación 4\n",
       "4  ['PH', 'SOC', 'KEX', 'PBRAY', 'NrTrees', 'N','...   30.50  Combinación 5\n",
       "5   ['PH', 'SOC', 'KEX', 'NrTrees', 'N', 'N_supply']   16.38  Combinación 6\n",
       "6   ['PH', 'SOC', 'PBRAY','N', 'P', 'K', 'N_supply']   42.72  Combinación 7\n",
       "7           ['PH', 'SOC', 'N', 'P', 'K', 'N_supply']   43.08  Combinación 8"
      ]
     },
     "execution_count": 8,
     "metadata": {},
     "output_type": "execute_result"
    }
   ],
   "source": [
    "df1"
   ]
  },
  {
   "cell_type": "code",
   "execution_count": null,
   "metadata": {},
   "outputs": [],
   "source": []
  }
 ],
 "metadata": {
  "kernelspec": {
   "display_name": "Python 3",
   "language": "python",
   "name": "python3"
  },
  "language_info": {
   "codemirror_mode": {
    "name": "ipython",
    "version": 3
   },
   "file_extension": ".py",
   "mimetype": "text/x-python",
   "name": "python",
   "nbconvert_exporter": "python",
   "pygments_lexer": "ipython3",
   "version": "3.8.5"
  }
 },
 "nbformat": 4,
 "nbformat_minor": 4
}
