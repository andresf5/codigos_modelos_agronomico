{
 "cells": [
  {
   "cell_type": "markdown",
   "metadata": {},
   "source": [
    "# Preparación Data Final para Modelar"
   ]
  },
  {
   "cell_type": "code",
   "execution_count": 1,
   "metadata": {},
   "outputs": [],
   "source": [
    "import numpy                 as np\n",
    "import pandas                as pd\n",
    "import matplotlib.pyplot     as plt\n",
    "import seaborn               as sns\n",
    "import sys\n",
    "import matplotlib\n",
    "sns.set_style('darkgrid')\n",
    "plt.style.use('ggplot')\n",
    "\n",
    "\n",
    "# Manejo de fechas\n",
    "import datetime\n",
    "import matplotlib.dates as mdates\n",
    "from datetime import date\n",
    "from dateutil.relativedelta import relativedelta\n",
    "from sklearn import metrics\n",
    "\n",
    "pd.set_option('display.max_columns', None)\n",
    "\n",
    "from sklearn.metrics import confusion_matrix\n",
    "from sklearn.metrics import classification_report\n",
    "from sklearn.metrics import roc_curve, auc\n",
    "from sklearn.model_selection import train_test_split\n",
    "from sklearn.ensemble import RandomForestClassifier\n",
    "from sklearn.neural_network import MLPRegressor\n",
    "from sklearn.ensemble import BaggingRegressor\n",
    "from sklearn.svm import SVR\n",
    "from sklearn.model_selection import cross_val_score\n",
    "from sklearn.tree import DecisionTreeRegressor\n",
    "#from sklearn.svm import SVR\n",
    "from sklearn.pipeline import make_pipeline\n",
    "from sklearn.preprocessing import StandardScaler\n",
    "\n",
    "#from sklearn.externals import joblib\n",
    "from sklearn.utils import resample\n",
    "\n",
    "from tensorflow import keras\n",
    "from tensorflow.keras import layers\n",
    "\n",
    "import warnings\n",
    "warnings.filterwarnings('ignore')"
   ]
  },
  {
   "cell_type": "markdown",
   "metadata": {},
   "source": [
    "## Datos"
   ]
  },
  {
   "cell_type": "code",
   "execution_count": 2,
   "metadata": {},
   "outputs": [],
   "source": [
    "#test"
   ]
  },
  {
   "cell_type": "code",
   "execution_count": 3,
   "metadata": {
    "scrolled": false
   },
   "outputs": [
    {
     "data": {
      "text/html": [
       "<div>\n",
       "<style scoped>\n",
       "    .dataframe tbody tr th:only-of-type {\n",
       "        vertical-align: middle;\n",
       "    }\n",
       "\n",
       "    .dataframe tbody tr th {\n",
       "        vertical-align: top;\n",
       "    }\n",
       "\n",
       "    .dataframe thead th {\n",
       "        text-align: right;\n",
       "    }\n",
       "</style>\n",
       "<table border=\"1\" class=\"dataframe\">\n",
       "  <thead>\n",
       "    <tr style=\"text-align: right;\">\n",
       "      <th></th>\n",
       "      <th>PH</th>\n",
       "      <th>TEMP</th>\n",
       "      <th>SOC</th>\n",
       "      <th>KEX</th>\n",
       "      <th>PBRAY</th>\n",
       "      <th>N_base_supply</th>\n",
       "      <th>P_base_supply</th>\n",
       "      <th>K_base_supply</th>\n",
       "      <th>N_recovery</th>\n",
       "      <th>P_recovery</th>\n",
       "      <th>K_recovery</th>\n",
       "      <th>NrTrees</th>\n",
       "      <th>crop</th>\n",
       "      <th>NminStore</th>\n",
       "      <th>NminVeg</th>\n",
       "      <th>NmaxStore</th>\n",
       "      <th>NmaxVeg</th>\n",
       "      <th>PminStore</th>\n",
       "      <th>PminVeg</th>\n",
       "      <th>PmaxStore</th>\n",
       "      <th>PmaxVeg</th>\n",
       "      <th>KminStore</th>\n",
       "      <th>KminVeg</th>\n",
       "      <th>KmaxStore</th>\n",
       "      <th>KmaxVeg</th>\n",
       "      <th>Unnamed: 25</th>\n",
       "      <th>N</th>\n",
       "      <th>P</th>\n",
       "      <th>K</th>\n",
       "      <th>No</th>\n",
       "      <th>Po</th>\n",
       "      <th>Ko</th>\n",
       "      <th>leaf_att</th>\n",
       "      <th>stem_att</th>\n",
       "      <th>store_att</th>\n",
       "      <th>SeasonLength</th>\n",
       "      <th>leaf_lim</th>\n",
       "      <th>stem_lim</th>\n",
       "      <th>store_lim</th>\n",
       "      <th>N_supply</th>\n",
       "      <th>P_supply</th>\n",
       "      <th>K_supply</th>\n",
       "      <th>N_uptake</th>\n",
       "      <th>P_uptake</th>\n",
       "      <th>K_uptake</th>\n",
       "      <th>N_gap</th>\n",
       "      <th>P_gap</th>\n",
       "      <th>K_gap</th>\n",
       "    </tr>\n",
       "  </thead>\n",
       "  <tbody>\n",
       "    <tr>\n",
       "      <th>0</th>\n",
       "      <td>4.7</td>\n",
       "      <td>21</td>\n",
       "      <td>30</td>\n",
       "      <td>1.5</td>\n",
       "      <td>1.1</td>\n",
       "      <td>63.8</td>\n",
       "      <td>1.7</td>\n",
       "      <td>21.2</td>\n",
       "      <td>0.7</td>\n",
       "      <td>0.17</td>\n",
       "      <td>0.7</td>\n",
       "      <td>3810</td>\n",
       "      <td>Coffee</td>\n",
       "      <td>0.0028</td>\n",
       "      <td>0.0454</td>\n",
       "      <td>0.0048</td>\n",
       "      <td>0.0459</td>\n",
       "      <td>0.00038</td>\n",
       "      <td>0.0038</td>\n",
       "      <td>0.00028</td>\n",
       "      <td>0.003</td>\n",
       "      <td>0.0045</td>\n",
       "      <td>0.003</td>\n",
       "      <td>0.0064</td>\n",
       "      <td>0.004</td>\n",
       "      <td>6779.22444</td>\n",
       "      <td>230</td>\n",
       "      <td>130</td>\n",
       "      <td>130</td>\n",
       "      <td>0</td>\n",
       "      <td>0</td>\n",
       "      <td>0</td>\n",
       "      <td>3264.08034</td>\n",
       "      <td>3515.1441</td>\n",
       "      <td>3713.394876</td>\n",
       "      <td>240</td>\n",
       "      <td>3264.1</td>\n",
       "      <td>3515.1</td>\n",
       "      <td>3152.1</td>\n",
       "      <td>212.1</td>\n",
       "      <td>22.5</td>\n",
       "      <td>105.8</td>\n",
       "      <td>195.8</td>\n",
       "      <td>22.0</td>\n",
       "      <td>97.8</td>\n",
       "      <td>159.3</td>\n",
       "      <td>10.7</td>\n",
       "      <td>0.0</td>\n",
       "    </tr>\n",
       "    <tr>\n",
       "      <th>1</th>\n",
       "      <td>5.7</td>\n",
       "      <td>21</td>\n",
       "      <td>20</td>\n",
       "      <td>1.7</td>\n",
       "      <td>1.1</td>\n",
       "      <td>67.5</td>\n",
       "      <td>5.3</td>\n",
       "      <td>29.2</td>\n",
       "      <td>0.7</td>\n",
       "      <td>0.17</td>\n",
       "      <td>0.7</td>\n",
       "      <td>5210</td>\n",
       "      <td>Coffee</td>\n",
       "      <td>0.0028</td>\n",
       "      <td>0.0454</td>\n",
       "      <td>0.0048</td>\n",
       "      <td>0.0459</td>\n",
       "      <td>0.00038</td>\n",
       "      <td>0.0038</td>\n",
       "      <td>0.00028</td>\n",
       "      <td>0.003</td>\n",
       "      <td>0.0045</td>\n",
       "      <td>0.003</td>\n",
       "      <td>0.0064</td>\n",
       "      <td>0.004</td>\n",
       "      <td>9270.27804</td>\n",
       "      <td>200</td>\n",
       "      <td>50</td>\n",
       "      <td>310</td>\n",
       "      <td>0</td>\n",
       "      <td>0</td>\n",
       "      <td>0</td>\n",
       "      <td>4463.47994</td>\n",
       "      <td>4806.7981</td>\n",
       "      <td>4262.349226</td>\n",
       "      <td>240</td>\n",
       "      <td>4463.5</td>\n",
       "      <td>4806.8</td>\n",
       "      <td>2881.2</td>\n",
       "      <td>207.1</td>\n",
       "      <td>13.8</td>\n",
       "      <td>245.8</td>\n",
       "      <td>175.7</td>\n",
       "      <td>13.7</td>\n",
       "      <td>138.4</td>\n",
       "      <td>331.8</td>\n",
       "      <td>112.6</td>\n",
       "      <td>0.0</td>\n",
       "    </tr>\n",
       "    <tr>\n",
       "      <th>2</th>\n",
       "      <td>5.1</td>\n",
       "      <td>21</td>\n",
       "      <td>21</td>\n",
       "      <td>1.5</td>\n",
       "      <td>1.1</td>\n",
       "      <td>55.1</td>\n",
       "      <td>3.7</td>\n",
       "      <td>28.0</td>\n",
       "      <td>0.7</td>\n",
       "      <td>0.17</td>\n",
       "      <td>0.7</td>\n",
       "      <td>3090</td>\n",
       "      <td>Coffee</td>\n",
       "      <td>0.0028</td>\n",
       "      <td>0.0454</td>\n",
       "      <td>0.0048</td>\n",
       "      <td>0.0459</td>\n",
       "      <td>0.00038</td>\n",
       "      <td>0.0038</td>\n",
       "      <td>0.00028</td>\n",
       "      <td>0.003</td>\n",
       "      <td>0.0045</td>\n",
       "      <td>0.003</td>\n",
       "      <td>0.0064</td>\n",
       "      <td>0.004</td>\n",
       "      <td>5498.11116</td>\n",
       "      <td>550</td>\n",
       "      <td>80</td>\n",
       "      <td>310</td>\n",
       "      <td>0</td>\n",
       "      <td>0</td>\n",
       "      <td>0</td>\n",
       "      <td>2647.24626</td>\n",
       "      <td>2850.8649</td>\n",
       "      <td>3386.065776</td>\n",
       "      <td>240</td>\n",
       "      <td>2647.2</td>\n",
       "      <td>2850.9</td>\n",
       "      <td>3185.0</td>\n",
       "      <td>375.9</td>\n",
       "      <td>14.8</td>\n",
       "      <td>209.2</td>\n",
       "      <td>265.1</td>\n",
       "      <td>14.8</td>\n",
       "      <td>139.2</td>\n",
       "      <td>0.0</td>\n",
       "      <td>29.6</td>\n",
       "      <td>0.0</td>\n",
       "    </tr>\n",
       "    <tr>\n",
       "      <th>3</th>\n",
       "      <td>5.9</td>\n",
       "      <td>21</td>\n",
       "      <td>25</td>\n",
       "      <td>0.3</td>\n",
       "      <td>1.1</td>\n",
       "      <td>90.6</td>\n",
       "      <td>6.8</td>\n",
       "      <td>3.9</td>\n",
       "      <td>0.7</td>\n",
       "      <td>0.17</td>\n",
       "      <td>0.7</td>\n",
       "      <td>4050</td>\n",
       "      <td>Coffee</td>\n",
       "      <td>0.0028</td>\n",
       "      <td>0.0454</td>\n",
       "      <td>0.0048</td>\n",
       "      <td>0.0459</td>\n",
       "      <td>0.00038</td>\n",
       "      <td>0.0038</td>\n",
       "      <td>0.00028</td>\n",
       "      <td>0.003</td>\n",
       "      <td>0.0045</td>\n",
       "      <td>0.003</td>\n",
       "      <td>0.0064</td>\n",
       "      <td>0.004</td>\n",
       "      <td>7206.26220</td>\n",
       "      <td>460</td>\n",
       "      <td>130</td>\n",
       "      <td>80</td>\n",
       "      <td>0</td>\n",
       "      <td>0</td>\n",
       "      <td>0</td>\n",
       "      <td>3469.69170</td>\n",
       "      <td>3736.5705</td>\n",
       "      <td>3815.710656</td>\n",
       "      <td>240</td>\n",
       "      <td>3469.7</td>\n",
       "      <td>3736.6</td>\n",
       "      <td>3285.6</td>\n",
       "      <td>397.7</td>\n",
       "      <td>27.9</td>\n",
       "      <td>57.7</td>\n",
       "      <td>292.9</td>\n",
       "      <td>25.2</td>\n",
       "      <td>57.0</td>\n",
       "      <td>0.0</td>\n",
       "      <td>0.0</td>\n",
       "      <td>0.0</td>\n",
       "    </tr>\n",
       "    <tr>\n",
       "      <th>4</th>\n",
       "      <td>5.3</td>\n",
       "      <td>21</td>\n",
       "      <td>10</td>\n",
       "      <td>1.1</td>\n",
       "      <td>1.1</td>\n",
       "      <td>28.8</td>\n",
       "      <td>2.4</td>\n",
       "      <td>41.4</td>\n",
       "      <td>0.7</td>\n",
       "      <td>0.17</td>\n",
       "      <td>0.7</td>\n",
       "      <td>6300</td>\n",
       "      <td>Coffee</td>\n",
       "      <td>0.0028</td>\n",
       "      <td>0.0454</td>\n",
       "      <td>0.0048</td>\n",
       "      <td>0.0459</td>\n",
       "      <td>0.00038</td>\n",
       "      <td>0.0038</td>\n",
       "      <td>0.00028</td>\n",
       "      <td>0.003</td>\n",
       "      <td>0.0045</td>\n",
       "      <td>0.003</td>\n",
       "      <td>0.0064</td>\n",
       "      <td>0.004</td>\n",
       "      <td>11209.74120</td>\n",
       "      <td>280</td>\n",
       "      <td>40</td>\n",
       "      <td>50</td>\n",
       "      <td>0</td>\n",
       "      <td>0</td>\n",
       "      <td>0</td>\n",
       "      <td>5397.29820</td>\n",
       "      <td>5812.4430</td>\n",
       "      <td>4609.717375</td>\n",
       "      <td>240</td>\n",
       "      <td>5397.3</td>\n",
       "      <td>5812.4</td>\n",
       "      <td>1784.7</td>\n",
       "      <td>209.6</td>\n",
       "      <td>8.6</td>\n",
       "      <td>71.2</td>\n",
       "      <td>150.7</td>\n",
       "      <td>8.6</td>\n",
       "      <td>58.9</td>\n",
       "      <td>456.6</td>\n",
       "      <td>182.7</td>\n",
       "      <td>0.0</td>\n",
       "    </tr>\n",
       "  </tbody>\n",
       "</table>\n",
       "</div>"
      ],
      "text/plain": [
       "    PH  TEMP  SOC  KEX  PBRAY  N_base_supply  P_base_supply  K_base_supply  \\\n",
       "0  4.7    21   30  1.5    1.1           63.8            1.7           21.2   \n",
       "1  5.7    21   20  1.7    1.1           67.5            5.3           29.2   \n",
       "2  5.1    21   21  1.5    1.1           55.1            3.7           28.0   \n",
       "3  5.9    21   25  0.3    1.1           90.6            6.8            3.9   \n",
       "4  5.3    21   10  1.1    1.1           28.8            2.4           41.4   \n",
       "\n",
       "   N_recovery  P_recovery  K_recovery  NrTrees    crop  NminStore  NminVeg  \\\n",
       "0         0.7        0.17         0.7     3810  Coffee     0.0028   0.0454   \n",
       "1         0.7        0.17         0.7     5210  Coffee     0.0028   0.0454   \n",
       "2         0.7        0.17         0.7     3090  Coffee     0.0028   0.0454   \n",
       "3         0.7        0.17         0.7     4050  Coffee     0.0028   0.0454   \n",
       "4         0.7        0.17         0.7     6300  Coffee     0.0028   0.0454   \n",
       "\n",
       "   NmaxStore  NmaxVeg  PminStore  PminVeg  PmaxStore  PmaxVeg  KminStore  \\\n",
       "0     0.0048   0.0459    0.00038   0.0038    0.00028    0.003     0.0045   \n",
       "1     0.0048   0.0459    0.00038   0.0038    0.00028    0.003     0.0045   \n",
       "2     0.0048   0.0459    0.00038   0.0038    0.00028    0.003     0.0045   \n",
       "3     0.0048   0.0459    0.00038   0.0038    0.00028    0.003     0.0045   \n",
       "4     0.0048   0.0459    0.00038   0.0038    0.00028    0.003     0.0045   \n",
       "\n",
       "   KminVeg  KmaxStore  KmaxVeg  Unnamed: 25    N    P    K  No  Po  Ko  \\\n",
       "0    0.003     0.0064    0.004   6779.22444  230  130  130   0   0   0   \n",
       "1    0.003     0.0064    0.004   9270.27804  200   50  310   0   0   0   \n",
       "2    0.003     0.0064    0.004   5498.11116  550   80  310   0   0   0   \n",
       "3    0.003     0.0064    0.004   7206.26220  460  130   80   0   0   0   \n",
       "4    0.003     0.0064    0.004  11209.74120  280   40   50   0   0   0   \n",
       "\n",
       "     leaf_att   stem_att    store_att  SeasonLength  leaf_lim  stem_lim  \\\n",
       "0  3264.08034  3515.1441  3713.394876           240    3264.1    3515.1   \n",
       "1  4463.47994  4806.7981  4262.349226           240    4463.5    4806.8   \n",
       "2  2647.24626  2850.8649  3386.065776           240    2647.2    2850.9   \n",
       "3  3469.69170  3736.5705  3815.710656           240    3469.7    3736.6   \n",
       "4  5397.29820  5812.4430  4609.717375           240    5397.3    5812.4   \n",
       "\n",
       "   store_lim  N_supply  P_supply  K_supply  N_uptake  P_uptake  K_uptake  \\\n",
       "0     3152.1     212.1      22.5     105.8     195.8      22.0      97.8   \n",
       "1     2881.2     207.1      13.8     245.8     175.7      13.7     138.4   \n",
       "2     3185.0     375.9      14.8     209.2     265.1      14.8     139.2   \n",
       "3     3285.6     397.7      27.9      57.7     292.9      25.2      57.0   \n",
       "4     1784.7     209.6       8.6      71.2     150.7       8.6      58.9   \n",
       "\n",
       "   N_gap  P_gap  K_gap  \n",
       "0  159.3   10.7    0.0  \n",
       "1  331.8  112.6    0.0  \n",
       "2    0.0   29.6    0.0  \n",
       "3    0.0    0.0    0.0  \n",
       "4  456.6  182.7    0.0  "
      ]
     },
     "execution_count": 3,
     "metadata": {},
     "output_type": "execute_result"
    }
   ],
   "source": [
    "df1= pd.read_csv('../sintetic_ds.csv', sep=\",\")\n",
    "df2= pd.read_csv('../sintetic_ds2.csv', sep=\",\")\n",
    "df3= pd.read_excel('../real_dataset.xlsx')\n",
    "\n",
    "df3.rename(columns ={'Materia orgánica': 'SOC', 'pH': 'PH', 'Densidad':'NrTrees'}, inplace=True)\n",
    "\n",
    "df3['N_supply'] = df3['Nitratos'] + df3['Amonio']\n",
    "\n",
    "df = pd.concat([df1,df2] , ignore_index=True)\n",
    "\n",
    "#df= pd.read_csv('./sintetic_ds.csv', sep=\";\", header=None, names=header_list)\n",
    "df.head()\n"
   ]
  },
  {
   "cell_type": "code",
   "execution_count": 4,
   "metadata": {},
   "outputs": [
    {
     "data": {
      "text/html": [
       "<div>\n",
       "<style scoped>\n",
       "    .dataframe tbody tr th:only-of-type {\n",
       "        vertical-align: middle;\n",
       "    }\n",
       "\n",
       "    .dataframe tbody tr th {\n",
       "        vertical-align: top;\n",
       "    }\n",
       "\n",
       "    .dataframe thead th {\n",
       "        text-align: right;\n",
       "    }\n",
       "</style>\n",
       "<table border=\"1\" class=\"dataframe\">\n",
       "  <thead>\n",
       "    <tr style=\"text-align: right;\">\n",
       "      <th></th>\n",
       "      <th>Manejo</th>\n",
       "      <th>Nitratos</th>\n",
       "      <th>Amonio</th>\n",
       "      <th>Humedad</th>\n",
       "      <th>PH</th>\n",
       "      <th>SOC</th>\n",
       "      <th>NrTrees</th>\n",
       "      <th>Fertilizante</th>\n",
       "      <th>N</th>\n",
       "      <th>P</th>\n",
       "      <th>K</th>\n",
       "      <th>N_supply</th>\n",
       "    </tr>\n",
       "  </thead>\n",
       "  <tbody>\n",
       "    <tr>\n",
       "      <th>0</th>\n",
       "      <td>1</td>\n",
       "      <td>92.23</td>\n",
       "      <td>0.496</td>\n",
       "      <td>15.48</td>\n",
       "      <td>5.00</td>\n",
       "      <td>4.885</td>\n",
       "      <td>3791</td>\n",
       "      <td>303280</td>\n",
       "      <td>130.56</td>\n",
       "      <td>64</td>\n",
       "      <td>76.8</td>\n",
       "      <td>92.726</td>\n",
       "    </tr>\n",
       "    <tr>\n",
       "      <th>1</th>\n",
       "      <td>1</td>\n",
       "      <td>91.06</td>\n",
       "      <td>0.402</td>\n",
       "      <td>15.48</td>\n",
       "      <td>5.06</td>\n",
       "      <td>4.882</td>\n",
       "      <td>4687</td>\n",
       "      <td>374960</td>\n",
       "      <td>130.56</td>\n",
       "      <td>64</td>\n",
       "      <td>76.8</td>\n",
       "      <td>91.462</td>\n",
       "    </tr>\n",
       "    <tr>\n",
       "      <th>2</th>\n",
       "      <td>1</td>\n",
       "      <td>90.48</td>\n",
       "      <td>0.440</td>\n",
       "      <td>17.91</td>\n",
       "      <td>5.02</td>\n",
       "      <td>4.888</td>\n",
       "      <td>2719</td>\n",
       "      <td>217520</td>\n",
       "      <td>130.56</td>\n",
       "      <td>64</td>\n",
       "      <td>76.8</td>\n",
       "      <td>90.920</td>\n",
       "    </tr>\n",
       "    <tr>\n",
       "      <th>3</th>\n",
       "      <td>1</td>\n",
       "      <td>185.04</td>\n",
       "      <td>0.274</td>\n",
       "      <td>16.04</td>\n",
       "      <td>4.59</td>\n",
       "      <td>3.826</td>\n",
       "      <td>4904</td>\n",
       "      <td>392320</td>\n",
       "      <td>130.56</td>\n",
       "      <td>64</td>\n",
       "      <td>76.8</td>\n",
       "      <td>185.314</td>\n",
       "    </tr>\n",
       "    <tr>\n",
       "      <th>4</th>\n",
       "      <td>1</td>\n",
       "      <td>216.98</td>\n",
       "      <td>0.120</td>\n",
       "      <td>14.64</td>\n",
       "      <td>4.66</td>\n",
       "      <td>3.824</td>\n",
       "      <td>4404</td>\n",
       "      <td>352320</td>\n",
       "      <td>130.56</td>\n",
       "      <td>64</td>\n",
       "      <td>76.8</td>\n",
       "      <td>217.100</td>\n",
       "    </tr>\n",
       "  </tbody>\n",
       "</table>\n",
       "</div>"
      ],
      "text/plain": [
       "   Manejo  Nitratos  Amonio  Humedad    PH    SOC  NrTrees  Fertilizante  \\\n",
       "0       1     92.23   0.496    15.48  5.00  4.885     3791        303280   \n",
       "1       1     91.06   0.402    15.48  5.06  4.882     4687        374960   \n",
       "2       1     90.48   0.440    17.91  5.02  4.888     2719        217520   \n",
       "3       1    185.04   0.274    16.04  4.59  3.826     4904        392320   \n",
       "4       1    216.98   0.120    14.64  4.66  3.824     4404        352320   \n",
       "\n",
       "        N   P     K  N_supply  \n",
       "0  130.56  64  76.8    92.726  \n",
       "1  130.56  64  76.8    91.462  \n",
       "2  130.56  64  76.8    90.920  \n",
       "3  130.56  64  76.8   185.314  \n",
       "4  130.56  64  76.8   217.100  "
      ]
     },
     "execution_count": 4,
     "metadata": {},
     "output_type": "execute_result"
    }
   ],
   "source": [
    "df3.head()"
   ]
  },
  {
   "cell_type": "code",
   "execution_count": 5,
   "metadata": {},
   "outputs": [
    {
     "data": {
      "text/plain": [
       "Manejo          124\n",
       "Nitratos        124\n",
       "Amonio          124\n",
       "Humedad         124\n",
       "PH              124\n",
       "SOC             124\n",
       "NrTrees         124\n",
       "Fertilizante    124\n",
       "N               124\n",
       "P               124\n",
       "K               124\n",
       "N_supply        124\n",
       "dtype: int64"
      ]
     },
     "execution_count": 5,
     "metadata": {},
     "output_type": "execute_result"
    }
   ],
   "source": [
    "df3.dropna(subset=['N_supply'], inplace=True)\n",
    "df3.count()\n"
   ]
  },
  {
   "cell_type": "code",
   "execution_count": 6,
   "metadata": {
    "scrolled": false
   },
   "outputs": [],
   "source": [
    "TO_KEEP=['PH', 'SOC', 'NrTrees', 'N', 'P', 'K','N_supply']\n",
    "df = df[TO_KEEP]\n",
    "df\n",
    "df3 = df3[TO_KEEP]\n"
   ]
  },
  {
   "cell_type": "code",
   "execution_count": 7,
   "metadata": {},
   "outputs": [
    {
     "data": {
      "text/plain": [
       "PH          15000\n",
       "SOC         15000\n",
       "NrTrees     15000\n",
       "N           15000\n",
       "P           15000\n",
       "K           15000\n",
       "N_supply    15000\n",
       "dtype: int64"
      ]
     },
     "execution_count": 7,
     "metadata": {},
     "output_type": "execute_result"
    }
   ],
   "source": [
    "df.count()"
   ]
  },
  {
   "cell_type": "markdown",
   "metadata": {},
   "source": [
    "## Escogiendo columnas relevantes"
   ]
  },
  {
   "cell_type": "code",
   "execution_count": 8,
   "metadata": {},
   "outputs": [
    {
     "name": "stdout",
     "output_type": "stream",
     "text": [
      "<class 'pandas.core.frame.DataFrame'>\n",
      "RangeIndex: 15000 entries, 0 to 14999\n",
      "Data columns (total 7 columns):\n",
      " #   Column    Non-Null Count  Dtype  \n",
      "---  ------    --------------  -----  \n",
      " 0   PH        15000 non-null  float64\n",
      " 1   SOC       15000 non-null  int64  \n",
      " 2   NrTrees   15000 non-null  int64  \n",
      " 3   N         15000 non-null  int64  \n",
      " 4   P         15000 non-null  int64  \n",
      " 5   K         15000 non-null  int64  \n",
      " 6   N_supply  15000 non-null  float64\n",
      "dtypes: float64(2), int64(5)\n",
      "memory usage: 820.4 KB\n"
     ]
    }
   ],
   "source": [
    "df.value_counts()\n",
    "df.info()\n",
    "\n"
   ]
  },
  {
   "cell_type": "code",
   "execution_count": 9,
   "metadata": {
    "scrolled": true
   },
   "outputs": [
    {
     "name": "stdout",
     "output_type": "stream",
     "text": [
      "<class 'pandas.core.frame.DataFrame'>\n",
      "RangeIndex: 15000 entries, 0 to 14999\n",
      "Data columns (total 6 columns):\n",
      " #   Column   Non-Null Count  Dtype  \n",
      "---  ------   --------------  -----  \n",
      " 0   PH       15000 non-null  float64\n",
      " 1   SOC      15000 non-null  int64  \n",
      " 2   NrTrees  15000 non-null  int64  \n",
      " 3   N        15000 non-null  int64  \n",
      " 4   P        15000 non-null  int64  \n",
      " 5   K        15000 non-null  int64  \n",
      "dtypes: float64(1), int64(5)\n",
      "memory usage: 703.2 KB\n"
     ]
    }
   ],
   "source": [
    "y = df['N_supply']\n",
    "#x= df\n",
    "X = df.drop('N_supply', axis=1)\n",
    "X.info()\n",
    "\n",
    "\n",
    "ytest_new_dataset=df3['N_supply']\n",
    "Xtest_new_dataset=df3.drop('N_supply', axis=1)\n",
    "\n",
    "X_train, X_test, y_train, y_test = train_test_split(X,y , test_size = 0.3, random_state = 0)\n",
    "\n",
    "\n",
    "\n",
    "X_test = Xtest_new_dataset\n",
    "\n",
    "y_test = ytest_new_dataset\n",
    "\n",
    "\n",
    "from sklearn.ensemble import RandomForestRegressor\n",
    "from sklearn.datasets import make_regression\n",
    "\n"
   ]
  },
  {
   "cell_type": "markdown",
   "metadata": {},
   "source": [
    "## RandomForestRegressor"
   ]
  },
  {
   "cell_type": "code",
   "execution_count": 10,
   "metadata": {},
   "outputs": [
    {
     "name": "stdout",
     "output_type": "stream",
     "text": [
      "\n",
      "\n",
      "\u001b[1mN_supply Random Forest\n",
      "\u001b[0m\n",
      "Mean Absolute Error (MAE): 110.71830532744326\n",
      "Mean Squared Error (MSE): 13568.117797127428\n",
      "Root Mean Squared Error (RMSE): 116.48226387363627\n",
      "Mean Absolute Percentage Error (MAPE): 180.5\n",
      "Accuracy: -80.5\n",
      "R^2: -3.1920631489318945\n"
     ]
    }
   ],
   "source": [
    "print(\"\\n\")\n",
    "print('\\033[1m' + \"N_supply Random Forest\")\n",
    "print('\\033[0m')\n",
    "\n",
    "#X, y = make_regression(n_features=4, n_informative=2, random_state=0, shuffle=False)\n",
    "\n",
    "regr = RandomForestRegressor(max_depth=2, random_state=0)\n",
    "regr.fit(X_train, y_train)\n",
    "regr.get_params()\n",
    "\n",
    "#\n",
    "#print(\"Puntaje Random Forest Regressor: \" + str(regr.oob_score_))\n",
    "pred =  regr.predict(X_test)\n",
    "gt = y_test\n",
    "\n",
    "\n",
    "print('Mean Absolute Error (MAE):', metrics.mean_absolute_error(gt, pred))\n",
    "print('Mean Squared Error (MSE):', metrics.mean_squared_error(gt, pred))\n",
    "print('Root Mean Squared Error (RMSE):', np.sqrt(metrics.mean_squared_error(gt, pred)))\n",
    "mape = np.mean(np.abs((gt - pred) / np.abs(gt)))\n",
    "print('Mean Absolute Percentage Error (MAPE):', round(mape * 100, 2))\n",
    "print('Accuracy:', round(100*(1 - mape), 2))\n",
    "print('R^2:', metrics.r2_score(gt, pred))\n",
    "\n"
   ]
  },
  {
   "cell_type": "code",
   "execution_count": 11,
   "metadata": {},
   "outputs": [
    {
     "data": {
      "image/png": "[encoded data removed]",
      "text/plain": [
       "<Figure size 1296x432 with 1 Axes>"
      ]
     },
     "metadata": {},
     "output_type": "display_data"
    }
   ],
   "source": [
    "muestras = 30\n",
    "lw = 3\n",
    "\n",
    "y_points = np.array(gt[:muestras])\n",
    "p_points = np.array(pred[:muestras])\n",
    "plt.rcParams[\"figure.figsize\"] = (18, 6)\n",
    "plt.plot(y_points, ls = ':', label='Nitrogeno disponible real', lw=lw)\n",
    "plt.plot(p_points, ls = ':', label='Nitrogeno disponible estimado', lw=lw)\n",
    "lst = list(range(1,muestras+1))\n",
    "plt.xticks(lst)\n",
    "plt.xlim([0, muestras])\n",
    "plt.ylim([0, 800])\n",
    "plt.xlabel('N predicción')\n",
    "plt.ylabel('kg/h')\n",
    "plt.title('Comparación valores reales y estimados RandomForestRegressor')\n",
    "plt.legend(loc='lower right')\n",
    "plt.show()\n",
    "\n"
   ]
  },
  {
   "cell_type": "code",
   "execution_count": 12,
   "metadata": {},
   "outputs": [],
   "source": [
    "#print(regr.predict([[4.7, 30, 1.5, 1.1, 3810, 230, 130, 130, 3713.394876]]))"
   ]
  },
  {
   "cell_type": "markdown",
   "metadata": {},
   "source": []
  },
  {
   "cell_type": "markdown",
   "metadata": {},
   "source": [
    "## Multi-layer Perceptron (MLP)"
   ]
  },
  {
   "cell_type": "code",
   "execution_count": 13,
   "metadata": {},
   "outputs": [
    {
     "name": "stdout",
     "output_type": "stream",
     "text": [
      "Mean Absolute Error (MAE): 35.429099082473904\n",
      "Mean Squared Error (MSE): 3152.373926977317\n",
      "Root Mean Squared Error (RMSE): 56.14600544096897\n",
      "Mean Absolute Percentage Error (MAPE): 42.35\n",
      "Accuracy: 57.65\n",
      "R^2: 0.026029198115221752\n"
     ]
    },
    {
     "data": {
      "text/plain": [
       "0.026029198115221752"
      ]
     },
     "execution_count": 13,
     "metadata": {},
     "output_type": "execute_result"
    }
   ],
   "source": [
    "\n",
    "regr = MLPRegressor(random_state=1, max_iter=500).fit(X_train, y_train)\n",
    "pred = regr.predict(X_test)\n",
    "\n",
    "\n",
    "\n",
    "print('Mean Absolute Error (MAE):', metrics.mean_absolute_error(gt, pred))\n",
    "print('Mean Squared Error (MSE):', metrics.mean_squared_error(gt, pred))\n",
    "print('Root Mean Squared Error (RMSE):', np.sqrt(metrics.mean_squared_error(gt, pred)))\n",
    "mape = np.mean(np.abs((gt - pred) / np.abs(gt)))\n",
    "print('Mean Absolute Percentage Error (MAPE):', round(mape * 100, 2))\n",
    "print('Accuracy:', round(100*(1 - mape), 2))\n",
    "print('R^2:', metrics.r2_score(gt, pred))\n",
    "\n",
    "regr.score(X_test, y_test)\n",
    "\n",
    "\n"
   ]
  },
  {
   "cell_type": "code",
   "execution_count": 14,
   "metadata": {
    "scrolled": false
   },
   "outputs": [],
   "source": [
    "#print(regr.predict([[4.7, 30, 1.5, 1.1, 3810, 230, 130, 130, 3713.394876]]))"
   ]
  },
  {
   "cell_type": "code",
   "execution_count": 15,
   "metadata": {},
   "outputs": [
    {
     "data": {
      "text/html": [
       "<div>\n",
       "<style scoped>\n",
       "    .dataframe tbody tr th:only-of-type {\n",
       "        vertical-align: middle;\n",
       "    }\n",
       "\n",
       "    .dataframe tbody tr th {\n",
       "        vertical-align: top;\n",
       "    }\n",
       "\n",
       "    .dataframe thead th {\n",
       "        text-align: right;\n",
       "    }\n",
       "</style>\n",
       "<table border=\"1\" class=\"dataframe\">\n",
       "  <thead>\n",
       "    <tr style=\"text-align: right;\">\n",
       "      <th></th>\n",
       "      <th>PH</th>\n",
       "      <th>SOC</th>\n",
       "      <th>NrTrees</th>\n",
       "      <th>N</th>\n",
       "      <th>P</th>\n",
       "      <th>K</th>\n",
       "    </tr>\n",
       "  </thead>\n",
       "  <tbody>\n",
       "    <tr>\n",
       "      <th>0</th>\n",
       "      <td>5.00</td>\n",
       "      <td>4.885</td>\n",
       "      <td>3791</td>\n",
       "      <td>130.56</td>\n",
       "      <td>64</td>\n",
       "      <td>76.8</td>\n",
       "    </tr>\n",
       "    <tr>\n",
       "      <th>1</th>\n",
       "      <td>5.06</td>\n",
       "      <td>4.882</td>\n",
       "      <td>4687</td>\n",
       "      <td>130.56</td>\n",
       "      <td>64</td>\n",
       "      <td>76.8</td>\n",
       "    </tr>\n",
       "    <tr>\n",
       "      <th>2</th>\n",
       "      <td>5.02</td>\n",
       "      <td>4.888</td>\n",
       "      <td>2719</td>\n",
       "      <td>130.56</td>\n",
       "      <td>64</td>\n",
       "      <td>76.8</td>\n",
       "    </tr>\n",
       "    <tr>\n",
       "      <th>3</th>\n",
       "      <td>4.59</td>\n",
       "      <td>3.826</td>\n",
       "      <td>4904</td>\n",
       "      <td>130.56</td>\n",
       "      <td>64</td>\n",
       "      <td>76.8</td>\n",
       "    </tr>\n",
       "    <tr>\n",
       "      <th>4</th>\n",
       "      <td>4.66</td>\n",
       "      <td>3.824</td>\n",
       "      <td>4404</td>\n",
       "      <td>130.56</td>\n",
       "      <td>64</td>\n",
       "      <td>76.8</td>\n",
       "    </tr>\n",
       "  </tbody>\n",
       "</table>\n",
       "</div>"
      ],
      "text/plain": [
       "     PH    SOC  NrTrees       N   P     K\n",
       "0  5.00  4.885     3791  130.56  64  76.8\n",
       "1  5.06  4.882     4687  130.56  64  76.8\n",
       "2  5.02  4.888     2719  130.56  64  76.8\n",
       "3  4.59  3.826     4904  130.56  64  76.8\n",
       "4  4.66  3.824     4404  130.56  64  76.8"
      ]
     },
     "execution_count": 15,
     "metadata": {},
     "output_type": "execute_result"
    }
   ],
   "source": [
    "X_test.head()\n"
   ]
  },
  {
   "cell_type": "code",
   "execution_count": 16,
   "metadata": {},
   "outputs": [
    {
     "data": {
      "text/plain": [
       "0     92.726\n",
       "1     91.462\n",
       "2     90.920\n",
       "3    185.314\n",
       "4    217.100\n",
       "Name: N_supply, dtype: float64"
      ]
     },
     "execution_count": 16,
     "metadata": {},
     "output_type": "execute_result"
    }
   ],
   "source": [
    "y_test.head()"
   ]
  },
  {
   "cell_type": "code",
   "execution_count": 17,
   "metadata": {},
   "outputs": [],
   "source": [
    "#print(regr.predict([[5.1, 21, 1.5, 1.1, 3090, 550, 80, 310, 3386.065776]]))"
   ]
  },
  {
   "cell_type": "code",
   "execution_count": 18,
   "metadata": {},
   "outputs": [],
   "source": [
    "#print(regr.predict([[5.5, 13, 0.9, 1.1, 4950, 410, 120, 180, 4169.140656]]))"
   ]
  },
  {
   "cell_type": "code",
   "execution_count": 19,
   "metadata": {
    "scrolled": false
   },
   "outputs": [
    {
     "data": {
      "text/html": [
       "<div>\n",
       "<style scoped>\n",
       "    .dataframe tbody tr th:only-of-type {\n",
       "        vertical-align: middle;\n",
       "    }\n",
       "\n",
       "    .dataframe tbody tr th {\n",
       "        vertical-align: top;\n",
       "    }\n",
       "\n",
       "    .dataframe thead th {\n",
       "        text-align: right;\n",
       "    }\n",
       "</style>\n",
       "<table border=\"1\" class=\"dataframe\">\n",
       "  <thead>\n",
       "    <tr style=\"text-align: right;\">\n",
       "      <th></th>\n",
       "      <th>PH</th>\n",
       "      <th>SOC</th>\n",
       "      <th>NrTrees</th>\n",
       "      <th>N</th>\n",
       "      <th>P</th>\n",
       "      <th>K</th>\n",
       "    </tr>\n",
       "  </thead>\n",
       "  <tbody>\n",
       "    <tr>\n",
       "      <th>0</th>\n",
       "      <td>5.0</td>\n",
       "      <td>4.885</td>\n",
       "      <td>3791</td>\n",
       "      <td>130.56</td>\n",
       "      <td>64</td>\n",
       "      <td>76.8</td>\n",
       "    </tr>\n",
       "  </tbody>\n",
       "</table>\n",
       "</div>"
      ],
      "text/plain": [
       "    PH    SOC  NrTrees       N   P     K\n",
       "0  5.0  4.885     3791  130.56  64  76.8"
      ]
     },
     "execution_count": 19,
     "metadata": {},
     "output_type": "execute_result"
    }
   ],
   "source": [
    "X_test[0:1]"
   ]
  },
  {
   "cell_type": "code",
   "execution_count": 20,
   "metadata": {},
   "outputs": [
    {
     "data": {
      "text/plain": [
       "PH            5.000\n",
       "SOC           4.885\n",
       "NrTrees    3791.000\n",
       "N           130.560\n",
       "P            64.000\n",
       "K            76.800\n",
       "Name: 0, dtype: float64"
      ]
     },
     "metadata": {},
     "output_type": "display_data"
    }
   ],
   "source": [
    "display(X_test.iloc[0])"
   ]
  },
  {
   "cell_type": "code",
   "execution_count": 21,
   "metadata": {},
   "outputs": [
    {
     "data": {
      "image/png": "[encoded data removed]",
      "text/plain": [
       "<Figure size 1296x432 with 1 Axes>"
      ]
     },
     "metadata": {},
     "output_type": "display_data"
    }
   ],
   "source": [
    "muestras = 30\n",
    "lw = 3\n",
    "\n",
    "y_points = np.array(gt[:muestras])\n",
    "p_points = np.array(pred[:muestras])\n",
    "plt.rcParams[\"figure.figsize\"] = (18, 6)\n",
    "plt.plot(y_points, ls = ':', label='Nitrogeno disponible real', lw=lw)\n",
    "plt.plot(p_points, ls = ':', label='Nitrogeno disponible estimado', lw=lw)\n",
    "lst = list(range(1,muestras+1))\n",
    "plt.xticks(lst)\n",
    "plt.xlim([0, muestras])\n",
    "plt.ylim([0, 800])\n",
    "plt.xlabel('N predicción')\n",
    "plt.ylabel('kg/h')\n",
    "plt.title('Comparación valores reales y estimados Multi-layer Perceptron (MLP)')\n",
    "plt.legend(loc='lower right')\n",
    "plt.show()\n",
    "\n",
    "\n"
   ]
  },
  {
   "cell_type": "code",
   "execution_count": 22,
   "metadata": {},
   "outputs": [
    {
     "data": {
      "text/plain": [
       "0      92.726\n",
       "1      91.462\n",
       "2      90.920\n",
       "3     185.314\n",
       "4     217.100\n",
       "5     191.622\n",
       "6      66.332\n",
       "7      67.220\n",
       "8      80.201\n",
       "9      63.578\n",
       "10     64.912\n",
       "11     69.382\n",
       "12    128.992\n",
       "13    133.559\n",
       "14    129.616\n",
       "15     64.711\n",
       "16     61.451\n",
       "17     67.348\n",
       "18     31.800\n",
       "19     31.434\n",
       "20     32.178\n",
       "21     54.072\n",
       "22     66.322\n",
       "23     67.543\n",
       "24     97.647\n",
       "25     93.613\n",
       "26     96.428\n",
       "27     75.775\n",
       "28     78.246\n",
       "29     77.991\n",
       "Name: N_supply, dtype: float64"
      ]
     },
     "execution_count": 22,
     "metadata": {},
     "output_type": "execute_result"
    }
   ],
   "source": [
    "gt[:muestras]\n"
   ]
  },
  {
   "cell_type": "markdown",
   "metadata": {},
   "source": [
    "##  BaggingRegressor"
   ]
  },
  {
   "cell_type": "code",
   "execution_count": 23,
   "metadata": {
    "scrolled": true
   },
   "outputs": [],
   "source": [
    "regr = BaggingRegressor(base_estimator=SVR(), n_estimators=10, random_state=0).fit(X_train, y_train)"
   ]
  },
  {
   "cell_type": "code",
   "execution_count": 24,
   "metadata": {},
   "outputs": [
    {
     "name": "stdout",
     "output_type": "stream",
     "text": [
      "Mean Absolute Error (MAE): 186.9708902889159\n",
      "Mean Squared Error (MSE): 37656.53648429932\n",
      "Root Mean Squared Error (RMSE): 194.0529218648854\n",
      "Mean Absolute Percentage Error (MAPE): 294.73\n",
      "Accuracy: -194.73\n",
      "R^2: -10.634523024679341\n"
     ]
    },
    {
     "data": {
      "text/plain": [
       "-10.634523024679341"
      ]
     },
     "execution_count": 24,
     "metadata": {},
     "output_type": "execute_result"
    }
   ],
   "source": [
    "\n",
    "\n",
    "pred = regr.predict(X_test)\n",
    "\n",
    "\n",
    "print('Mean Absolute Error (MAE):', metrics.mean_absolute_error(gt, pred))\n",
    "print('Mean Squared Error (MSE):', metrics.mean_squared_error(gt, pred))\n",
    "print('Root Mean Squared Error (RMSE):', np.sqrt(metrics.mean_squared_error(gt, pred)))\n",
    "mape = np.mean(np.abs((gt - pred) / np.abs(gt)))\n",
    "print('Mean Absolute Percentage Error (MAPE):', round(mape * 100, 2))\n",
    "print('Accuracy:', round(100*(1 - mape), 2))\n",
    "print('R^2:', metrics.r2_score(gt, pred))\n",
    "\n",
    "regr.score(X_test, y_test)\n",
    "\n"
   ]
  },
  {
   "cell_type": "code",
   "execution_count": 25,
   "metadata": {},
   "outputs": [
    {
     "data": {
      "image/png": "[encoded data removed]",
      "text/plain": [
       "<Figure size 1296x432 with 1 Axes>"
      ]
     },
     "metadata": {},
     "output_type": "display_data"
    }
   ],
   "source": [
    "muestras = 30\n",
    "lw = 3\n",
    "\n",
    "y_points = np.array(gt[:muestras])\n",
    "p_points = np.array(pred[:muestras])\n",
    "plt.rcParams[\"figure.figsize\"] = (18, 6)\n",
    "plt.plot(y_points, ls = ':', label='Nitrogeno disponible real', lw=lw)\n",
    "plt.plot(p_points, ls = ':', label='Nitrogeno disponible estimado', lw=lw)\n",
    "lst = list(range(1,muestras+1))\n",
    "plt.xticks(lst)\n",
    "plt.xlim([0, muestras])\n",
    "plt.ylim([0, 800])\n",
    "plt.xlabel('N predicción')\n",
    "plt.ylabel('kg/h')\n",
    "plt.title('Comparación valores reales y estimados BaggingRegressor')\n",
    "plt.legend(loc='lower right')\n",
    "plt.show()\n",
    "\n"
   ]
  },
  {
   "cell_type": "markdown",
   "metadata": {},
   "source": [
    "## DecisionTreeRegressor"
   ]
  },
  {
   "cell_type": "code",
   "execution_count": 26,
   "metadata": {},
   "outputs": [
    {
     "name": "stdout",
     "output_type": "stream",
     "text": [
      "Mean Absolute Error (MAE): 54.18641935483871\n",
      "Mean Squared Error (MSE): 4302.5857252580645\n",
      "Root Mean Squared Error (RMSE): 65.59409825020894\n",
      "Mean Absolute Percentage Error (MAPE): 87.87\n",
      "Accuracy: 12.13\n",
      "R^2: -0.3293451113604997\n"
     ]
    },
    {
     "data": {
      "text/plain": [
       "-0.3293451113604997"
      ]
     },
     "execution_count": 26,
     "metadata": {},
     "output_type": "execute_result"
    }
   ],
   "source": [
    "regressor = DecisionTreeRegressor(random_state=0)\n",
    "regr = regressor.fit(X_train, y_train)\n",
    "\n",
    "pred = regr.predict(X_test)\n",
    "\n",
    "print('Mean Absolute Error (MAE):', metrics.mean_absolute_error(gt, pred))\n",
    "print('Mean Squared Error (MSE):', metrics.mean_squared_error(gt, pred))\n",
    "print('Root Mean Squared Error (RMSE):', np.sqrt(metrics.mean_squared_error(gt, pred)))\n",
    "mape = np.mean(np.abs((gt - pred) / np.abs(gt)))\n",
    "print('Mean Absolute Percentage Error (MAPE):', round(mape * 100, 2))\n",
    "print('Accuracy:', round(100*(1 - mape), 2))\n",
    "print('R^2:', metrics.r2_score(gt, pred))\n",
    "\n",
    "regr.score(X_test, y_test)\n",
    "\n",
    "#cross_val_score(regressor, X_train, y_train, cv=20)"
   ]
  },
  {
   "cell_type": "code",
   "execution_count": 27,
   "metadata": {
    "scrolled": true
   },
   "outputs": [
    {
     "data": {
      "image/png": "[encoded data removed]",
      "text/plain": [
       "<Figure size 1296x432 with 1 Axes>"
      ]
     },
     "metadata": {},
     "output_type": "display_data"
    }
   ],
   "source": [
    "muestras = 30\n",
    "lw = 3\n",
    "\n",
    "y_points = np.array(gt[:muestras])\n",
    "p_points = np.array(pred[:muestras])\n",
    "plt.rcParams[\"figure.figsize\"] = (18, 6)\n",
    "plt.plot(y_points, ls = ':', label='Nitrogeno disponible real', lw=lw)\n",
    "plt.plot(p_points, ls = ':', label='Nitrogeno disponible estimado', lw=lw)\n",
    "lst = list(range(1,muestras+1))\n",
    "plt.xticks(lst)\n",
    "plt.xlim([0, muestras])\n",
    "plt.ylim([0, 800])\n",
    "plt.xlabel('N predicción')\n",
    "plt.ylabel('kg/h')\n",
    "plt.title('Comparación valores reales y estimados DecisionTreeRegressor')\n",
    "plt.legend(loc='lower right')\n",
    "plt.show()\n",
    "\n",
    "\n"
   ]
  },
  {
   "cell_type": "markdown",
   "metadata": {},
   "source": [
    "## SVR\n"
   ]
  },
  {
   "cell_type": "code",
   "execution_count": 28,
   "metadata": {},
   "outputs": [
    {
     "data": {
      "text/plain": [
       "SVR(C=100, epsilon=0.2)"
      ]
     },
     "execution_count": 28,
     "metadata": {},
     "output_type": "execute_result"
    }
   ],
   "source": [
    "regr = SVR(C=100, epsilon=0.2)\n",
    "regr.fit(X_train, y_train)"
   ]
  },
  {
   "cell_type": "code",
   "execution_count": 29,
   "metadata": {},
   "outputs": [
    {
     "name": "stdout",
     "output_type": "stream",
     "text": [
      "Mean Absolute Error (MAE): 55.916425064295744\n",
      "Mean Squared Error (MSE): 4450.436822118402\n",
      "Root Mean Squared Error (RMSE): 66.7115943604888\n",
      "Mean Absolute Percentage Error (MAPE): 90.43\n",
      "Accuracy: 9.57\n",
      "R^2: -0.3750258125413668\n"
     ]
    },
    {
     "data": {
      "text/plain": [
       "-0.3750258125413668"
      ]
     },
     "execution_count": 29,
     "metadata": {},
     "output_type": "execute_result"
    }
   ],
   "source": [
    "pred = regr.predict(X_test)\n",
    "\n",
    "print('Mean Absolute Error (MAE):', metrics.mean_absolute_error(gt, pred))\n",
    "print('Mean Squared Error (MSE):', metrics.mean_squared_error(gt, pred))\n",
    "print('Root Mean Squared Error (RMSE):', np.sqrt(metrics.mean_squared_error(gt, pred)))\n",
    "mape = np.mean(np.abs((gt - pred) / np.abs(gt)))\n",
    "print('Mean Absolute Percentage Error (MAPE):', round(mape * 100, 2))\n",
    "print('Accuracy:', round(100*(1 - mape), 2))\n",
    "print('R^2:', metrics.r2_score(gt, pred))\n",
    "\n",
    "regr.score(X_test, y_test)\n"
   ]
  },
  {
   "cell_type": "code",
   "execution_count": 30,
   "metadata": {},
   "outputs": [
    {
     "data": {
      "image/png": "[encoded data removed]",
      "text/plain": [
       "<Figure size 1296x432 with 1 Axes>"
      ]
     },
     "metadata": {},
     "output_type": "display_data"
    }
   ],
   "source": [
    "muestras = 30\n",
    "lw = 3\n",
    "\n",
    "y_points = np.array(gt[:muestras])\n",
    "p_points = np.array(pred[:muestras])\n",
    "plt.rcParams[\"figure.figsize\"] = (18, 6)\n",
    "plt.plot(y_points, ls = ':', label='Nitrogeno disponible real', lw=lw)\n",
    "plt.plot(p_points, ls = ':', label='Nitrogeno disponible estimado', lw=lw)\n",
    "lst = list(range(1,muestras+1))\n",
    "plt.xticks(lst)\n",
    "plt.xlim([0, muestras])\n",
    "plt.ylim([0, 800])\n",
    "plt.xlabel('N predicción')\n",
    "plt.ylabel('kg/h')\n",
    "plt.title('Comparación valores reales y estimados SVR')\n",
    "plt.legend(loc='lower right')\n",
    "plt.show()\n"
   ]
  },
  {
   "cell_type": "code",
   "execution_count": null,
   "metadata": {},
   "outputs": [],
   "source": []
  }
 ],
 "metadata": {
  "kernelspec": {
   "display_name": "Python 3",
   "language": "python",
   "name": "python3"
  },
  "language_info": {
   "codemirror_mode": {
    "name": "ipython",
    "version": 3
   },
   "file_extension": ".py",
   "mimetype": "text/x-python",
   "name": "python",
   "nbconvert_exporter": "python",
   "pygments_lexer": "ipython3",
   "version": "3.8.5"
  }
 },
 "nbformat": 4,
 "nbformat_minor": 2
}
